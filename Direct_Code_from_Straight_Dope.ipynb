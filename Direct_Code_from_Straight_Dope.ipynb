{
 "cells": [
  {
   "cell_type": "code",
   "execution_count": 1,
   "metadata": {},
   "outputs": [
    {
     "name": "stderr",
     "output_type": "stream",
     "text": [
      "C:\\Users\\594084\\AppData\\Local\\Continuum\\anaconda3\\lib\\site-packages\\urllib3\\contrib\\pyopenssl.py:46: DeprecationWarning: OpenSSL.rand is deprecated - you should use os.urandom instead\n",
      "  import OpenSSL.SSL\n"
     ]
    }
   ],
   "source": [
    "from __future__ import print_function\n",
    "import mxnet as mx\n",
    "from mxnet import nd, autograd\n",
    "from mxnet import gluon\n",
    "import numpy as np\n",
    "mx.random.seed(1) "
   ]
  },
  {
   "cell_type": "code",
   "execution_count": 2,
   "metadata": {
    "collapsed": true
   },
   "outputs": [],
   "source": [
    "ctx = mx.cpu()\n"
   ]
  },
  {
   "cell_type": "code",
   "execution_count": 3,
   "metadata": {
    "collapsed": true
   },
   "outputs": [],
   "source": [
    "def transformer(data, label):\n",
    "    data = mx.image.imresize(data, 224, 224)\n",
    "    data = mx.nd.transpose(data, (2,0,1))\n",
    "    data = data.astype(np.float32)\n",
    "    return data, label\n"
   ]
  },
  {
   "cell_type": "code",
   "execution_count": 4,
   "metadata": {
    "collapsed": true
   },
   "outputs": [],
   "source": [
    "#Original batch size was 64, changed it to 3 to run faster\n",
    "batch_size = 3\n",
    "train_data = gluon.data.DataLoader(\n",
    "    gluon.data.vision.CIFAR10('./data', train=True, transform=transformer),\n",
    "    batch_size=batch_size, shuffle=True, last_batch='discard')\n",
    "\n",
    "test_data = gluon.data.DataLoader(\n",
    "    gluon.data.vision.CIFAR10('./data', train=False, transform=transformer),\n",
    "    batch_size=batch_size, shuffle=False, last_batch='discard')"
   ]
  },
  {
   "cell_type": "code",
   "execution_count": 5,
   "metadata": {},
   "outputs": [
    {
     "name": "stdout",
     "output_type": "stream",
     "text": [
      "\n",
      "[[[[ 101.  101.  101. ...,   45.   45.   45.]\n",
      "   [ 101.  101.  101. ...,   45.   45.   45.]\n",
      "   [ 101.  101.  101. ...,   45.   45.   45.]\n",
      "   ..., \n",
      "   [ 138.  138.  138. ...,  117.  117.  117.]\n",
      "   [ 138.  138.  138. ...,  117.  117.  117.]\n",
      "   [ 138.  138.  138. ...,  117.  117.  117.]]\n",
      "\n",
      "  [[  93.   93.   93. ...,   59.   59.   59.]\n",
      "   [  93.   93.   93. ...,   59.   59.   59.]\n",
      "   [  93.   93.   93. ...,   59.   59.   59.]\n",
      "   ..., \n",
      "   [ 138.  138.  138. ...,   98.   98.   98.]\n",
      "   [ 138.  138.  138. ...,   98.   98.   98.]\n",
      "   [ 138.  138.  138. ...,   98.   98.   98.]]\n",
      "\n",
      "  [[  77.   77.   77. ...,   28.   28.   28.]\n",
      "   [  77.   77.   77. ...,   28.   28.   28.]\n",
      "   [  77.   77.   77. ...,   28.   28.   28.]\n",
      "   ..., \n",
      "   [ 112.  112.  112. ...,   85.   85.   85.]\n",
      "   [ 112.  112.  112. ...,   85.   85.   85.]\n",
      "   [ 112.  112.  112. ...,   85.   85.   85.]]]\n",
      "\n",
      "\n",
      " [[[ 216.  216.  216. ...,  115.  115.  115.]\n",
      "   [ 216.  216.  216. ...,  115.  115.  115.]\n",
      "   [ 216.  216.  216. ...,  115.  115.  115.]\n",
      "   ..., \n",
      "   [ 118.  118.  118. ...,   29.   29.   29.]\n",
      "   [ 118.  118.  118. ...,   29.   29.   29.]\n",
      "   [ 118.  118.  118. ...,   29.   29.   29.]]\n",
      "\n",
      "  [[ 186.  186.  186. ...,  104.  104.  104.]\n",
      "   [ 186.  186.  186. ...,  104.  104.  104.]\n",
      "   [ 186.  186.  186. ...,  104.  104.  104.]\n",
      "   ..., \n",
      "   [  96.   96.   96. ...,   26.   26.   26.]\n",
      "   [  96.   96.   96. ...,   26.   26.   26.]\n",
      "   [  96.   96.   96. ...,   26.   26.   26.]]\n",
      "\n",
      "  [[ 150.  150.  150. ...,  101.  101.  101.]\n",
      "   [ 150.  150.  150. ...,  101.  101.  101.]\n",
      "   [ 150.  150.  150. ...,  101.  101.  101.]\n",
      "   ..., \n",
      "   [  86.   86.   86. ...,   35.   35.   35.]\n",
      "   [  86.   86.   86. ...,   35.   35.   35.]\n",
      "   [  86.   86.   86. ...,   35.   35.   35.]]]\n",
      "\n",
      "\n",
      " [[[ 253.  253.  253. ...,  253.  253.  253.]\n",
      "   [ 253.  253.  253. ...,  253.  253.  253.]\n",
      "   [ 253.  253.  253. ...,  253.  253.  253.]\n",
      "   ..., \n",
      "   [  92.   92.   92. ...,   85.   85.   85.]\n",
      "   [  92.   92.   92. ...,   85.   85.   85.]\n",
      "   [  92.   92.   92. ...,   85.   85.   85.]]\n",
      "\n",
      "  [[ 253.  253.  253. ...,  253.  253.  253.]\n",
      "   [ 253.  253.  253. ...,  253.  253.  253.]\n",
      "   [ 253.  253.  253. ...,  253.  253.  253.]\n",
      "   ..., \n",
      "   [  93.   93.   93. ...,   83.   83.   83.]\n",
      "   [  93.   93.   93. ...,   83.   83.   83.]\n",
      "   [  93.   93.   93. ...,   83.   83.   83.]]\n",
      "\n",
      "  [[ 253.  253.  253. ...,  253.  253.  253.]\n",
      "   [ 253.  253.  253. ...,  253.  253.  253.]\n",
      "   [ 253.  253.  253. ...,  253.  253.  253.]\n",
      "   ..., \n",
      "   [ 114.  114.  114. ...,   99.   99.   99.]\n",
      "   [ 114.  114.  114. ...,   99.   99.   99.]\n",
      "   [ 114.  114.  114. ...,   99.   99.   99.]]]]\n",
      "<NDArray 3x3x224x224 @cpu(0)> \n",
      "[4 2 9]\n",
      "<NDArray 3 @cpu(0)>\n"
     ]
    },
    {
     "ename": "ValueError",
     "evalue": "The truth value of an NDArray with multiple elements is ambiguous.",
     "output_type": "error",
     "traceback": [
      "\u001b[1;31m---------------------------------------------------------------------------\u001b[0m",
      "\u001b[1;31mValueError\u001b[0m                                Traceback (most recent call last)",
      "\u001b[1;32m<ipython-input-5-356ee0b39fa2>\u001b[0m in \u001b[0;36m<module>\u001b[1;34m()\u001b[0m\n\u001b[0;32m      2\u001b[0m \u001b[1;32mfor\u001b[0m \u001b[0md\u001b[0m\u001b[1;33m,\u001b[0m \u001b[0ml\u001b[0m \u001b[1;32min\u001b[0m \u001b[0mtrain_data\u001b[0m\u001b[1;33m:\u001b[0m\u001b[1;33m\u001b[0m\u001b[0m\n\u001b[0;32m      3\u001b[0m     \u001b[0mprint\u001b[0m\u001b[1;33m(\u001b[0m\u001b[0md\u001b[0m\u001b[1;33m,\u001b[0m\u001b[0ml\u001b[0m\u001b[1;33m)\u001b[0m\u001b[1;33m\u001b[0m\u001b[0m\n\u001b[1;32m----> 4\u001b[1;33m     \u001b[1;32mif\u001b[0m \u001b[0md\u001b[0m \u001b[1;33m==\u001b[0m \u001b[1;36m3\u001b[0m\u001b[1;33m:\u001b[0m\u001b[1;33m\u001b[0m\u001b[0m\n\u001b[0m\u001b[0;32m      5\u001b[0m         \u001b[1;32mbreak\u001b[0m\u001b[1;33m\u001b[0m\u001b[0m\n",
      "\u001b[1;32m~\\AppData\\Roaming\\Python\\Python36\\site-packages\\mxnet\\ndarray\\ndarray.py\u001b[0m in \u001b[0;36m__bool__\u001b[1;34m(self)\u001b[0m\n\u001b[0;32m    318\u001b[0m             \u001b[1;32mreturn\u001b[0m \u001b[0mbool\u001b[0m\u001b[1;33m(\u001b[0m\u001b[0mself\u001b[0m\u001b[1;33m.\u001b[0m\u001b[0masscalar\u001b[0m\u001b[1;33m(\u001b[0m\u001b[1;33m)\u001b[0m\u001b[1;33m)\u001b[0m\u001b[1;33m\u001b[0m\u001b[0m\n\u001b[0;32m    319\u001b[0m         \u001b[1;32melse\u001b[0m\u001b[1;33m:\u001b[0m\u001b[1;33m\u001b[0m\u001b[0m\n\u001b[1;32m--> 320\u001b[1;33m             raise ValueError(\"The truth value of an NDArray with multiple elements \" \\\n\u001b[0m\u001b[0;32m    321\u001b[0m                              \"is ambiguous.\")\n\u001b[0;32m    322\u001b[0m \u001b[1;33m\u001b[0m\u001b[0m\n",
      "\u001b[1;31mValueError\u001b[0m: The truth value of an NDArray with multiple elements is ambiguous."
     ]
    }
   ],
   "source": [
    "\n",
    "for d, l in train_data:\n",
    "    print(d,l)\n",
    "    if d == 3:\n",
    "        break"
   ]
  },
  {
   "cell_type": "code",
   "execution_count": 6,
   "metadata": {},
   "outputs": [
    {
     "name": "stdout",
     "output_type": "stream",
     "text": [
      "(3, 3, 224, 224)\n"
     ]
    }
   ],
   "source": [
    "print(d.shape)"
   ]
  },
  {
   "cell_type": "code",
   "execution_count": 7,
   "metadata": {},
   "outputs": [
    {
     "data": {
      "text/plain": [
       "numpy.float32"
      ]
     },
     "execution_count": 7,
     "metadata": {},
     "output_type": "execute_result"
    }
   ],
   "source": [
    "d.dtype\n"
   ]
  },
  {
   "cell_type": "code",
   "execution_count": 8,
   "metadata": {
    "collapsed": true
   },
   "outputs": [],
   "source": [
    "alex_net = gluon.nn.Sequential()\n",
    "with alex_net.name_scope():\n",
    "    #  First convolutional layer\n",
    "    alex_net.add(gluon.nn.Conv2D(channels=96, kernel_size=11, strides=(4,4), activation='relu'))\n",
    "    alex_net.add(gluon.nn.MaxPool2D(pool_size=3, strides=2))\n",
    "    #  Second convolutional layer\n",
    "    alex_net.add(gluon.nn.Conv2D(channels=192, kernel_size=7, activation='relu'))\n",
    "    alex_net.add(gluon.nn.MaxPool2D(pool_size=3, strides=(2,2)))\n",
    "    # Third convolutional layer\n",
    "    alex_net.add(gluon.nn.Conv2D(channels=384, kernel_size=5, activation='relu'))\n",
    "    # Fourth convolutional layer\n",
    "    #alex_net.add(gluon.nn.Conv2D(channels=384, kernel_size=3, activation='relu'))\n",
    "    # Fifth convolutional layer\n",
    "    #alex_net.add(gluon.nn.Conv2D(channels=256, kernel_size=3, activation='relu'))\n",
    "    #alex_net.add(gluon.nn.MaxPool2D(pool_size=3, strides=2))\n",
    "    # Flatten and apply fullly connected layers\n",
    "    alex_net.add(gluon.nn.Flatten())\n",
    "    alex_net.add(gluon.nn.Dense(4096, activation=\"relu\"))\n",
    "    alex_net.add(gluon.nn.Dense(4096, activation=\"relu\"))\n",
    "    alex_net.add(gluon.nn.Dense(10))"
   ]
  },
  {
   "cell_type": "code",
   "execution_count": 9,
   "metadata": {},
   "outputs": [],
   "source": [
    "alex_net.collect_params().initialize(mx.init.Xavier(magnitude=2.24), ctx=ctx)"
   ]
  },
  {
   "cell_type": "code",
   "execution_count": 10,
   "metadata": {
    "collapsed": true
   },
   "outputs": [],
   "source": [
    "trainer = gluon.Trainer(alex_net.collect_params(), 'sgd', {'learning_rate': .001})\n",
    "softmax_cross_entropy = gluon.loss.SoftmaxCrossEntropyLoss()\n"
   ]
  },
  {
   "cell_type": "code",
   "execution_count": 11,
   "metadata": {
    "collapsed": true
   },
   "outputs": [],
   "source": [
    "def evaluate_accuracy(data_iterator, net):\n",
    "    acc = mx.metric.Accuracy()\n",
    "    for d, l in data_iterator:\n",
    "        data = d.as_in_context(ctx)\n",
    "        label = l.as_in_context(ctx)\n",
    "        output = net(data)\n",
    "        predictions = nd.argmax(output, axis=1)\n",
    "        acc.update(preds=predictions, labels=label)\n",
    "    return acc.get()[1]"
   ]
  },
  {
   "cell_type": "code",
   "execution_count": null,
   "metadata": {},
   "outputs": [],
   "source": [
    "###########################\n",
    "#  Only one epoch so tests can run quickly, increase this variable to actually run\n",
    "###########################\n",
    "epochs = 1\n",
    "smoothing_constant = .01\n",
    "\n",
    "\n",
    "for e in range(epochs):\n",
    "    for i, (d, l) in enumerate(train_data):\n",
    "        data = d.as_in_context(ctx)\n",
    "        label = l.as_in_context(ctx)\n",
    "        with autograd.record():\n",
    "            output = alex_net(data)\n",
    "            loss = softmax_cross_entropy(output, label)\n",
    "        loss.backward()\n",
    "        trainer.step(data.shape[0])\n",
    "\n",
    "        ##########################\n",
    "        #  Keep a moving average of the losses\n",
    "        ##########################\n",
    "        curr_loss = nd.mean(loss).asscalar()\n",
    "        moving_loss = (curr_loss if ((i == 0) and (e == 0))\n",
    "                       else (1 - smoothing_constant) * moving_loss + (smoothing_constant) * curr_loss)\n",
    "\n",
    "    test_accuracy = evaluate_accuracy(test_data, alex_net)\n",
    "    train_accuracy = evaluate_accuracy(train_data, alex_net)\n",
    "    print(\"Epoch %s. Loss: %s, Train_acc %s, Test_acc %s\" % (e, moving_loss, train_accuracy, test_accuracy))"
   ]
  },
  {
   "cell_type": "code",
   "execution_count": null,
   "metadata": {
    "collapsed": true
   },
   "outputs": [],
   "source": []
  },
  {
   "cell_type": "code",
   "execution_count": null,
   "metadata": {
    "collapsed": true
   },
   "outputs": [],
   "source": []
  }
 ],
 "metadata": {
  "kernelspec": {
   "display_name": "Python 3",
   "language": "python",
   "name": "python3"
  }
 },
 "nbformat": 4,
 "nbformat_minor": 2
}
